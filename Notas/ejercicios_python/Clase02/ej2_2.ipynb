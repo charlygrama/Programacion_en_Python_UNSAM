{
 "metadata": {
  "language_info": {
   "codemirror_mode": {
    "name": "ipython",
    "version": 3
   },
   "file_extension": ".py",
   "mimetype": "text/x-python",
   "name": "python",
   "nbconvert_exporter": "python",
   "pygments_lexer": "ipython3",
   "version": "3.8.5-final"
  },
  "orig_nbformat": 2,
  "kernelspec": {
   "name": "python3",
   "display_name": "Python 3.8.5 64-bit (conda)",
   "metadata": {
    "interpreter": {
     "hash": "20e90f6c8eca7b1010b1eadbf75260bcb5e4dd938c185e09a60d58311f663fc9"
    }
   }
  }
 },
 "nbformat": 4,
 "nbformat_minor": 2,
 "cells": [
  {
   "cell_type": "code",
   "execution_count": 84,
   "metadata": {},
   "outputs": [
    {
     "output_type": "stream",
     "name": "stdout",
     "text": [
      "47671.15\n"
     ]
    }
   ],
   "source": [
    "costo_total = 0\n",
    "with open('../Data/camion.csv', 'rt') as f:\n",
    "    headers = next(f).split()\n",
    "    for linea in f:\n",
    "        fila = linea.split(',')\n",
    "        precio = int(fila[1]) * float(fila[2])\n",
    "        costo_total += precio\n",
    "    print(costo_total)"
   ]
  },
  {
   "cell_type": "code",
   "execution_count": 85,
   "metadata": {},
   "outputs": [
    {
     "output_type": "execute_result",
     "data": {
      "text/plain": [
       "47671.15"
      ]
     },
     "metadata": {},
     "execution_count": 85
    }
   ],
   "source": [
    "costo_total"
   ]
  }
 ]
}