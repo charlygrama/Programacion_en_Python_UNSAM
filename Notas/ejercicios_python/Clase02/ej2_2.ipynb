{
 "metadata": {
  "language_info": {
   "codemirror_mode": {
    "name": "ipython",
    "version": 3
   },
   "file_extension": ".py",
   "mimetype": "text/x-python",
   "name": "python",
   "nbconvert_exporter": "python",
   "pygments_lexer": "ipython3",
   "version": "3.8.5-final"
  },
  "orig_nbformat": 2,
  "kernelspec": {
   "name": "python3",
   "display_name": "Python 3.8.5 64-bit (conda)",
   "metadata": {
    "interpreter": {
     "hash": "20e90f6c8eca7b1010b1eadbf75260bcb5e4dd938c185e09a60d58311f663fc9"
    }
   }
  }
 },
 "nbformat": 4,
 "nbformat_minor": 2,
 "cells": [
  {
   "cell_type": "code",
   "execution_count": 37,
   "metadata": {},
   "outputs": [
    {
     "output_type": "stream",
     "name": "stdout",
     "text": [
      "['Lima,100,32.2\\n', 'Naranja,50,91.1\\n', 'Caqui,150,103.44\\n', 'Mandarina,200,51.23\\n', 'Durazno,95,40.37\\n', 'Mandarina,50,65.1\\n', 'Naranja,100,70.44\\n']\n"
     ]
    }
   ],
   "source": [
    "with open('../Data/camion.csv', 'rt') as f:\n",
    "    # headers = next(f)\n",
    "    for linea in f:\n",
    "        lineas = f.readlines()\n",
    "        print(lineas)"
   ]
  },
  {
   "cell_type": "code",
   "execution_count": 81,
   "metadata": {},
   "outputs": [
    {
     "output_type": "stream",
     "name": "stdout",
     "text": [
      "47671.15\n"
     ]
    }
   ],
   "source": [
    "costo_total = 0\n",
    "with open('../Data/camion.csv', 'rt') as f:\n",
    "    headers = next(f).split()\n",
    "    for linea in f:\n",
    "        fila = linea.split(',')\n",
    "        precio = int(fila[1]) * float(fila[2])\n",
    "        costo_total += precio\n",
    "    print(costo_total)"
   ]
  },
  {
   "cell_type": "code",
   "execution_count": 80,
   "metadata": {},
   "outputs": [
    {
     "output_type": "execute_result",
     "data": {
      "text/plain": [
       "47671.15"
      ]
     },
     "metadata": {},
     "execution_count": 80
    }
   ],
   "source": [
    "costo_total"
   ]
  },
  {
   "cell_type": "code",
   "execution_count": null,
   "metadata": {},
   "outputs": [],
   "source": []
  }
 ]
}