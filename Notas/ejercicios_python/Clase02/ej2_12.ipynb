{
 "metadata": {
  "language_info": {
   "codemirror_mode": {
    "name": "ipython",
    "version": 3
   },
   "file_extension": ".py",
   "mimetype": "text/x-python",
   "name": "python",
   "nbconvert_exporter": "python",
   "pygments_lexer": "ipython3",
   "version": "3.8.5-final"
  },
  "orig_nbformat": 2,
  "kernelspec": {
   "name": "python3",
   "display_name": "Python 3.8.5 64-bit (conda)",
   "metadata": {
    "interpreter": {
     "hash": "20e90f6c8eca7b1010b1eadbf75260bcb5e4dd938c185e09a60d58311f663fc9"
    }
   }
  }
 },
 "nbformat": 4,
 "nbformat_minor": 2,
 "cells": [
  {
   "cell_type": "code",
   "execution_count": 3,
   "metadata": {},
   "outputs": [
    {
     "output_type": "stream",
     "name": "stdout",
     "text": [
      "['Lima', '100', '32.2']\n"
     ]
    }
   ],
   "source": [
    "### Ejercicio 2.12: Diccionarios como estructuras de datos\n",
    "import csv\n",
    "with open('g:/proyectos/python/python_UNSAM/Notas/ejercicios_python/Data/camion.csv', 'rt') as f:\n",
    "        lineas = csv.reader(f)\n",
    "        headers = next(lineas)       \n",
    "        linea = next(lineas)\n",
    "        print(linea)\n",
    "d = {\n",
    "        'nombre' : linea[0],\n",
    "        'cajones' : int(linea[1]),\n",
    "        'precio'  : float(linea[2])\n",
    "    }"
   ]
  },
  {
   "cell_type": "code",
   "execution_count": 4,
   "metadata": {},
   "outputs": [
    {
     "output_type": "execute_result",
     "data": {
      "text/plain": [
       "{'nombre': 'Lima', 'cajones': 100, 'precio': 32.2}"
      ]
     },
     "metadata": {},
     "execution_count": 4
    }
   ],
   "source": [
    "d"
   ]
  },
  {
   "cell_type": "code",
   "execution_count": 6,
   "metadata": {},
   "outputs": [
    {
     "output_type": "execute_result",
     "data": {
      "text/plain": [
       "3220.0000000000005"
      ]
     },
     "metadata": {},
     "execution_count": 6
    }
   ],
   "source": [
    "costo = d['cajones'] * d['precio']\n",
    "costo"
   ]
  },
  {
   "cell_type": "code",
   "execution_count": 7,
   "metadata": {},
   "outputs": [
    {
     "output_type": "execute_result",
     "data": {
      "text/plain": [
       "{'nombre': 'Lima', 'cajones': 75, 'precio': 32.2}"
      ]
     },
     "metadata": {},
     "execution_count": 7
    }
   ],
   "source": [
    "d['cajones'] = 75\n",
    "d"
   ]
  },
  {
   "cell_type": "code",
   "execution_count": 9,
   "metadata": {},
   "outputs": [
    {
     "output_type": "execute_result",
     "data": {
      "text/plain": [
       "{'nombre': 'Lima',\n",
       " 'cajones': 75,\n",
       " 'precio': 32.2,\n",
       " 'fecha': (14, 8, 2020),\n",
       " 'cuenta': 12345}"
      ]
     },
     "metadata": {},
     "execution_count": 9
    }
   ],
   "source": [
    "d['fecha'] = (14,8,2020)\n",
    "d['cuenta'] = 12345\n",
    "d"
   ]
  }
 ]
}