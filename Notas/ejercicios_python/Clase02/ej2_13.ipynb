{
 "metadata": {
  "language_info": {
   "codemirror_mode": {
    "name": "ipython",
    "version": 3
   },
   "file_extension": ".py",
   "mimetype": "text/x-python",
   "name": "python",
   "nbconvert_exporter": "python",
   "pygments_lexer": "ipython3",
   "version": "3.8.5-final"
  },
  "orig_nbformat": 2,
  "kernelspec": {
   "name": "python3",
   "display_name": "Python 3.8.5 64-bit (conda)",
   "metadata": {
    "interpreter": {
     "hash": "20e90f6c8eca7b1010b1eadbf75260bcb5e4dd938c185e09a60d58311f663fc9"
    }
   }
  }
 },
 "nbformat": 4,
 "nbformat_minor": 2,
 "cells": [
  {
   "cell_type": "code",
   "execution_count": 3,
   "metadata": {},
   "outputs": [
    {
     "output_type": "stream",
     "name": "stdout",
     "text": [
      "['Lima', '100', '32.2']\n"
     ]
    },
    {
     "output_type": "execute_result",
     "data": {
      "text/plain": [
       "{'nombre': 'Lima',\n",
       " 'cajones': 100,\n",
       " 'precio': 32.2,\n",
       " 'fecha': (14, 8, 2020),\n",
       " 'cuenta': 12345}"
      ]
     },
     "metadata": {},
     "execution_count": 3
    }
   ],
   "source": [
    "### Ejercicio 2.13: Más operaciones con diccionarios\n",
    "import csv\n",
    "with open('g:/proyectos/python/python_UNSAM/Notas/ejercicios_python/Data/camion.csv', 'rt') as f:\n",
    "        lineas = csv.reader(f)\n",
    "        headers = next(lineas)       \n",
    "        linea = next(lineas)\n",
    "        print(linea)\n",
    "d = {\n",
    "        'nombre' : linea[0],\n",
    "        'cajones' : int(linea[1]),\n",
    "        'precio'  : float(linea[2])\n",
    "    }\n",
    "d['fecha'] = (14,8,2020)\n",
    "d['cuenta'] = 12345\n",
    "d"
   ]
  },
  {
   "cell_type": "code",
   "execution_count": 5,
   "metadata": {},
   "outputs": [
    {
     "output_type": "stream",
     "name": "stdout",
     "text": [
      "nombre = Lima\ncajones = 100\nprecio = 32.2\nfecha = (14, 8, 2020)\ncuenta = 12345\n"
     ]
    }
   ],
   "source": [
    "for k in d:\n",
    "    print(k, '=', d[k])"
   ]
  },
  {
   "cell_type": "code",
   "execution_count": 6,
   "metadata": {},
   "outputs": [
    {
     "output_type": "stream",
     "name": "stdout",
     "text": [
      "k = nombre\nk = cajones\nk = precio\nk = fecha\nk = cuenta\n"
     ]
    }
   ],
   "source": [
    "for k in d:\n",
    "        print('k =', k)"
   ]
  },
  {
   "cell_type": "code",
   "execution_count": 9,
   "metadata": {},
   "outputs": [
    {
     "output_type": "execute_result",
     "data": {
      "text/plain": [
       "dict_items([('nombre', 'Lima'), ('cajones', 100), ('precio', 32.2), ('fecha', (14, 8, 2020)), ('cuenta', 12345)])"
      ]
     },
     "metadata": {},
     "execution_count": 9
    }
   ],
   "source": [
    "items = d.items()\n",
    "items"
   ]
  },
  {
   "cell_type": "code",
   "execution_count": 11,
   "metadata": {},
   "outputs": [
    {
     "output_type": "stream",
     "name": "stdout",
     "text": [
      "nombre = Lima\ncajones = 100\nprecio = 32.2\nfecha = (14, 8, 2020)\ncuenta = 12345\n"
     ]
    }
   ],
   "source": [
    "for k, v in d.items():\n",
    "    print(k, '=',v)"
   ]
  },
  {
   "cell_type": "code",
   "execution_count": 12,
   "metadata": {},
   "outputs": [
    {
     "output_type": "execute_result",
     "data": {
      "text/plain": [
       "['nombre', 'cajones', 'precio', 'fecha', 'cuenta']"
      ]
     },
     "metadata": {},
     "execution_count": 12
    }
   ],
   "source": [
    "list(d)"
   ]
  },
  {
   "cell_type": "code",
   "execution_count": 13,
   "metadata": {},
   "outputs": [
    {
     "output_type": "execute_result",
     "data": {
      "text/plain": [
       "dict_keys(['nombre', 'cajones', 'precio', 'fecha', 'cuenta'])"
      ]
     },
     "metadata": {},
     "execution_count": 13
    }
   ],
   "source": [
    "claves = d.keys()\n",
    "claves"
   ]
  },
  {
   "cell_type": "code",
   "execution_count": 14,
   "metadata": {},
   "outputs": [
    {
     "output_type": "execute_result",
     "data": {
      "text/plain": [
       "[('nombre', 'Manzanas'),\n",
       " ('cajones', 100),\n",
       " ('precio', 490.1),\n",
       " ('fecha', (13, 8, 2020))]"
      ]
     },
     "metadata": {},
     "execution_count": 14
    }
   ],
   "source": [
    "nuevos_items = [('nombre', 'Manzanas'), ('cajones', 100), ('precio', 490.1),('fecha', (13, 8, 2020))]\n",
    "nuevos_items"
   ]
  },
  {
   "cell_type": "code",
   "execution_count": 16,
   "metadata": {},
   "outputs": [
    {
     "output_type": "execute_result",
     "data": {
      "text/plain": [
       "{'nombre': 'Manzanas', 'cajones': 100, 'precio': 490.1, 'fecha': (13, 8, 2020)}"
      ]
     },
     "metadata": {},
     "execution_count": 16
    }
   ],
   "source": [
    "d = dict(nuevos_items)\n",
    "d"
   ]
  },
  {
   "cell_type": "code",
   "execution_count": null,
   "metadata": {},
   "outputs": [],
   "source": []
  }
 ]
}