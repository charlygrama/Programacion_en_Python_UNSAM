{
 "metadata": {
  "language_info": {
   "codemirror_mode": {
    "name": "ipython",
    "version": 3
   },
   "file_extension": ".py",
   "mimetype": "text/x-python",
   "name": "python",
   "nbconvert_exporter": "python",
   "pygments_lexer": "ipython3",
   "version": "3.8.5-final"
  },
  "orig_nbformat": 2,
  "kernelspec": {
   "name": "python3",
   "display_name": "Python 3.8.5 64-bit (conda)",
   "metadata": {
    "interpreter": {
     "hash": "20e90f6c8eca7b1010b1eadbf75260bcb5e4dd938c185e09a60d58311f663fc9"
    }
   }
  }
 },
 "nbformat": 4,
 "nbformat_minor": 2,
 "cells": [
  {
   "cell_type": "code",
   "execution_count": 7,
   "metadata": {},
   "outputs": [
    {
     "output_type": "stream",
     "name": "stdout",
     "text": [
      "nombre,cajones,precio\nLima,100,32.2\nNaranja,50,91.1\nCaqui,150,103.44\nMandarina,200,51.23\nDurazno,95,40.37\nMandarina,50,65.1\nNaranja,100,70.44\n"
     ]
    }
   ],
   "source": [
    "import gzip\n",
    "with gzip.open('../Data/camion.csv.gz', 'rt') as f:\n",
    "    for linea in f:\n",
    "        print(linea, end ='') "
   ]
  }
 ]
}