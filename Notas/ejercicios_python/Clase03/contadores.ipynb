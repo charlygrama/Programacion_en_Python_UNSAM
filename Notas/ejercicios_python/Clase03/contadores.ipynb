{
 "metadata": {
  "language_info": {
   "codemirror_mode": {
    "name": "ipython",
    "version": 3
   },
   "file_extension": ".py",
   "mimetype": "text/x-python",
   "name": "python",
   "nbconvert_exporter": "python",
   "pygments_lexer": "ipython3",
   "version": "3.8.5-final"
  },
  "orig_nbformat": 2,
  "kernelspec": {
   "name": "python3",
   "display_name": "Python 3.8.5 64-bit (conda)",
   "metadata": {
    "interpreter": {
     "hash": "20e90f6c8eca7b1010b1eadbf75260bcb5e4dd938c185e09a60d58311f663fc9"
    }
   }
  }
 },
 "nbformat": 4,
 "nbformat_minor": 2,
 "cells": [
  {
   "cell_type": "code",
   "execution_count": 10,
   "metadata": {},
   "outputs": [
    {
     "output_type": "error",
     "ename": "SyntaxError",
     "evalue": "invalid syntax (<ipython-input-10-2ab6a729fe85>, line 1)",
     "traceback": [
      "\u001b[1;36m  File \u001b[1;32m\"<ipython-input-10-2ab6a729fe85>\"\u001b[1;36m, line \u001b[1;32m1\u001b[0m\n\u001b[1;33m    & C:/Users/carlos/anaconda3/python.exe -i g:/proyectos/python/python_UNSAM/Notas/ejercicios_python/Clase03/informe.py\u001b[0m\n\u001b[1;37m    ^\u001b[0m\n\u001b[1;31mSyntaxError\u001b[0m\u001b[1;31m:\u001b[0m invalid syntax\n"
     ]
    }
   ],
   "source": [
    "& C:/Users/carlos/anaconda3/python.exe -i g:/proyectos/python/python_UNSAM/Notas/ejercicios_python/Clase03/informe.py"
   ]
  },
  {
   "cell_type": "code",
   "execution_count": null,
   "metadata": {},
   "outputs": [],
   "source": []
  }
 ]
}