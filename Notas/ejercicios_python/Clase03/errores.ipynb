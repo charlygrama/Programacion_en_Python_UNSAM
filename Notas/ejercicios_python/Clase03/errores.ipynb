{
 "metadata": {
  "language_info": {
   "codemirror_mode": {
    "name": "ipython",
    "version": 3
   },
   "file_extension": ".py",
   "mimetype": "text/x-python",
   "name": "python",
   "nbconvert_exporter": "python",
   "pygments_lexer": "ipython3",
   "version": "3.8.5-final"
  },
  "orig_nbformat": 2,
  "kernelspec": {
   "name": "python3",
   "display_name": "Python 3.8.5 64-bit (conda)",
   "metadata": {
    "interpreter": {
     "hash": "20e90f6c8eca7b1010b1eadbf75260bcb5e4dd938c185e09a60d58311f663fc9"
    }
   }
  }
 },
 "nbformat": 4,
 "nbformat_minor": 2,
 "cells": [
  {
   "cell_type": "code",
   "execution_count": 6,
   "metadata": {},
   "outputs": [
    {
     "output_type": "execute_result",
     "data": {
      "text/plain": [
       "False"
      ]
     },
     "metadata": {},
     "execution_count": 6
    }
   ],
   "source": [
    "### Ejercicio 3.1: Semántica\n",
    "def tiene_a(expresion):\n",
    "    n = len(expresion)\n",
    "    i = 0\n",
    "    while i<n:\n",
    "        if expresion[i] == 'a':\n",
    "            return True\n",
    "        else:\n",
    "            return False\n",
    "        i += 1\n",
    "\n",
    "tiene_a('UNSAM 2020')\n",
    "tiene_a('abracadabra')\n",
    "tiene_a('La novela 1984 de George Orwell')"
   ]
  },
  {
   "cell_type": "code",
   "execution_count": null,
   "metadata": {},
   "outputs": [],
   "source": []
  }
 ]
}